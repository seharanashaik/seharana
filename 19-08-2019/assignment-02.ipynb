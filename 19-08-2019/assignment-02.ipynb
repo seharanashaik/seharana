{
 "cells": [
  {
   "cell_type": "markdown",
   "metadata": {},
   "source": [
    "# Date 19-aug-2019\n",
    "**hai to write text in Bold use ** and __\n",
    "To wite text in italic \n",
    "1.line1\n",
    "\n",
    "2.line2\n",
    "# Unordered list\n",
    "\n",
    "-line1\n",
    "-line2\n",
    "\n",
    "#### list with sublines\n",
    "1.line1\n",
    "    -subline\n",
    " \n",
    "2. line2\n",
    "      -subline\n"
   ]
  },
  {
   "cell_type": "markdown",
   "metadata": {},
   "source": [
    "#### Check Box\n",
    "\n",
    "- [x]\n",
    "\n",
    "*abc\n",
    "\n",
    "\\*escape\n",
    "\n",
    "[links](http://localhost:8888/notebooks/Desktop/seharana/python%20assignment.ipynb)\n",
    "\n",
    ">hi (bliack quotes)"
   ]
  },
  {
   "cell_type": "code",
   "execution_count": 2,
   "metadata": {},
   "outputs": [
    {
     "name": "stdout",
     "output_type": "stream",
     "text": [
      "enter ur number a: 3\n",
      "enter ur nubmer b: 2\n",
      "a: 2\n",
      "b: 3\n"
     ]
    }
   ],
   "source": [
    "#swaping of two numbers without using third variable\n",
    "a=int(input(\"enter ur number a: \"))\n",
    "b=int(input(\"enter ur nubmer b: \"))\n",
    "a=a+b\n",
    "b=a-b\n",
    "a=a-b\n",
    "print(\"a:\",a)\n",
    "print(\"b:\",b)"
   ]
  },
  {
   "cell_type": "code",
   "execution_count": 12,
   "metadata": {},
   "outputs": [
    {
     "name": "stdout",
     "output_type": "stream",
     "text": [
      "enter ur number a: 121\n",
      "121\n",
      "palindrome\n"
     ]
    }
   ],
   "source": [
    "#to check given number palindrome or not\n",
    "a=int((input(\"enter ur number a: \")))\n",
    "b=a\n",
    "p=0\n",
    "i=0\n",
    "while (a>0):\n",
    "    i=(a%10)\n",
    "    p=(p*10)+i\n",
    "    a=(a//10)\n",
    "print(p)\n",
    "if(b==p):\n",
    "    print(\"palindrome\")\n",
    "else:\n",
    "    print(\"not palindrome\")\n",
    "    "
   ]
  },
  {
   "cell_type": "code",
   "execution_count": 46,
   "metadata": {},
   "outputs": [
    {
     "name": "stdout",
     "output_type": "stream",
     "text": [
      "enter ur number1\n",
      "enter ur number5\n"
     ]
    }
   ],
   "source": [
    "#to print the numbers in given range prime numbers\n",
    "a=int(input(\"enter ur number\"))\n",
    "b=int(input(\"enter ur number\"))\n",
    "i=1\n",
    "count=0\n",
    "for j in range(a,b):\n",
    "    for i in range(1,j):\n",
    "        if(a%i==0):\n",
    "            count=count+1       \n",
    "    i=i+1\n",
    "if(count==2):\n",
    "    print(a)"
   ]
  },
  {
   "cell_type": "code",
   "execution_count": 22,
   "metadata": {},
   "outputs": [
    {
     "name": "stdout",
     "output_type": "stream",
     "text": [
      "enter ur number6\n",
      "1 2 3 "
     ]
    },
    {
     "ename": "KeyboardInterrupt",
     "evalue": "",
     "output_type": "error",
     "traceback": [
      "\u001b[1;31m---------------------------------------------------------------------------\u001b[0m",
      "\u001b[1;31mKeyboardInterrupt\u001b[0m                         Traceback (most recent call last)",
      "\u001b[1;32m<ipython-input-22-02baacf56512>\u001b[0m in \u001b[0;36m<module>\u001b[1;34m\u001b[0m\n\u001b[0;32m      2\u001b[0m \u001b[0ma\u001b[0m\u001b[1;33m=\u001b[0m\u001b[0mint\u001b[0m\u001b[1;33m(\u001b[0m\u001b[0minput\u001b[0m\u001b[1;33m(\u001b[0m\u001b[1;34m\"enter ur number\"\u001b[0m\u001b[1;33m)\u001b[0m\u001b[1;33m)\u001b[0m\u001b[1;33m\u001b[0m\u001b[1;33m\u001b[0m\u001b[0m\n\u001b[0;32m      3\u001b[0m \u001b[0mi\u001b[0m\u001b[1;33m=\u001b[0m\u001b[1;36m1\u001b[0m\u001b[1;33m\u001b[0m\u001b[1;33m\u001b[0m\u001b[0m\n\u001b[1;32m----> 4\u001b[1;33m \u001b[1;32mwhile\u001b[0m\u001b[1;33m(\u001b[0m\u001b[0mi\u001b[0m\u001b[1;33m<\u001b[0m\u001b[0ma\u001b[0m\u001b[1;33m)\u001b[0m\u001b[1;33m:\u001b[0m\u001b[1;33m\u001b[0m\u001b[1;33m\u001b[0m\u001b[0m\n\u001b[0m\u001b[0;32m      5\u001b[0m     \u001b[1;32mif\u001b[0m\u001b[1;33m(\u001b[0m\u001b[0ma\u001b[0m\u001b[1;33m%\u001b[0m\u001b[0mi\u001b[0m\u001b[1;33m==\u001b[0m\u001b[1;36m0\u001b[0m\u001b[1;33m)\u001b[0m\u001b[1;33m:\u001b[0m\u001b[1;33m\u001b[0m\u001b[1;33m\u001b[0m\u001b[0m\n\u001b[0;32m      6\u001b[0m         \u001b[0mprint\u001b[0m\u001b[1;33m(\u001b[0m\u001b[0mi\u001b[0m\u001b[1;33m,\u001b[0m\u001b[0mend\u001b[0m\u001b[1;33m=\u001b[0m\u001b[1;34m' '\u001b[0m\u001b[1;33m)\u001b[0m\u001b[1;33m\u001b[0m\u001b[1;33m\u001b[0m\u001b[0m\n",
      "\u001b[1;31mKeyboardInterrupt\u001b[0m: "
     ]
    }
   ],
   "source": [
    "#to print factors of anumber\n",
    "a=int(input(\"enter ur number\"))\n",
    "i=1\n",
    "while(i<a):\n",
    "    if(a%i==0):\n",
    "        print(i,end=' ')\n",
    "        i=i+1"
   ]
  },
  {
   "cell_type": "code",
   "execution_count": 31,
   "metadata": {
    "scrolled": true
   },
   "outputs": [
    {
     "name": "stdout",
     "output_type": "stream",
     "text": [
      "enter ur string  wow'\n",
      "aplindrome\n"
     ]
    }
   ],
   "source": [
    "#To check given string palindrome or not\n",
    "a=input(\"enter ur string  \")\n",
    "if(a[0:]==a[::--1]):\n",
    "    print(\"aplindrome\")\n",
    "else:\n",
    "    print(\"not palindrome\")"
   ]
  },
  {
   "cell_type": "code",
   "execution_count": 34,
   "metadata": {},
   "outputs": [
    {
     "name": "stdout",
     "output_type": "stream",
     "text": [
      "enter ur number5\n",
      "0\n",
      "1\n",
      "1\n",
      "2\n",
      "3\n"
     ]
    }
   ],
   "source": [
    "#fibnocci series\n",
    "a=int(input(\"enter ur number\"))\n",
    "b=0\n",
    "c=1\n",
    "f=0\n",
    "i=1\n",
    "while(i<=a):\n",
    "    print(b)\n",
    "    f=b+c\n",
    "    b=c\n",
    "    c=f\n",
    "    i=i+1"
   ]
  },
  {
   "cell_type": "code",
   "execution_count": 43,
   "metadata": {},
   "outputs": [
    {
     "name": "stdout",
     "output_type": "stream",
     "text": [
      "enter ur number3\n",
      "2.0\n"
     ]
    }
   ],
   "source": [
    "#average of n numbers\n",
    "a=int(input(\"enter ur number\"))\n",
    "i=1\n",
    "sum=0\n",
    "count=0\n",
    "while (i<=a):\n",
    "    if(a%i==0):\n",
    "        sum=sum+i\n",
    "        count=count+1\n",
    "    i=i+1\n",
    "average=(sum/count)\n",
    "print(average)"
   ]
  },
  {
   "cell_type": "code",
   "execution_count": null,
   "metadata": {},
   "outputs": [],
   "source": [
    "#3 armstrong numbers shouid print\n",
    "a=int(input(\"enter ur number\"))\n",
    "i=1\n",
    "while(i<500)\n"
   ]
  }
 ],
 "metadata": {
  "kernelspec": {
   "display_name": "Python 3",
   "language": "python",
   "name": "python3"
  },
  "language_info": {
   "codemirror_mode": {
    "name": "ipython",
    "version": 3
   },
   "file_extension": ".py",
   "mimetype": "text/x-python",
   "name": "python",
   "nbconvert_exporter": "python",
   "pygments_lexer": "ipython3",
   "version": "3.7.3"
  }
 },
 "nbformat": 4,
 "nbformat_minor": 2
}
