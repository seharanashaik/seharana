{
 "cells": [
  {
   "cell_type": "markdown",
   "metadata": {},
   "source": [
    "## Files"
   ]
  },
  {
   "cell_type": "markdown",
   "metadata": {},
   "source": [
    "## 3 steps to work with files in python\n",
    "- open file by specifing opertion\n",
    "- do your required operation\n",
    "- close the file which is opened"
   ]
  },
  {
   "cell_type": "code",
   "execution_count": null,
   "metadata": {},
   "outputs": [],
   "source": []
  },
  {
   "cell_type": "markdown",
   "metadata": {},
   "source": [
    "## read data the book.txt"
   ]
  },
  {
   "cell_type": "code",
   "execution_count": 2,
   "metadata": {},
   "outputs": [
    {
     "name": "stdout",
     "output_type": "stream",
     "text": [
      "line 1\n",
      "line 2\n",
      "line 3\n",
      "line 4\n"
     ]
    }
   ],
   "source": [
    "fh= open('book.txt','r')\n",
    "\n",
    "data=fh.read()\n",
    "print(data)\n",
    "\n",
    "fh.close()"
   ]
  },
  {
   "cell_type": "markdown",
   "metadata": {},
   "source": [
    "## write data into mystory.txt"
   ]
  },
  {
   "cell_type": "code",
   "execution_count": 3,
   "metadata": {},
   "outputs": [],
   "source": [
    "fh=open(\"mystory.txt\",'w')\n",
    "\n",
    "content = 'This is my story'\n",
    "fh.write(content)\n",
    "\n",
    "fh.close()"
   ]
  },
  {
   "cell_type": "code",
   "execution_count": 10,
   "metadata": {},
   "outputs": [],
   "source": [
    "fh=open(\"book.txt\",'r')\n",
    "d=fh.read()\n",
    "g=open(\"mystory.txt\",'w')\n",
    "g.write(d)\n",
    "g.close()\n",
    "fh.close()\n"
   ]
  },
  {
   "cell_type": "code",
   "execution_count": 13,
   "metadata": {},
   "outputs": [
    {
     "ename": "TypeError",
     "evalue": "write() argument must be str, not _io.TextIOWrapper",
     "output_type": "error",
     "traceback": [
      "\u001b[1;31m---------------------------------------------------------------------------\u001b[0m",
      "\u001b[1;31mTypeError\u001b[0m                                 Traceback (most recent call last)",
      "\u001b[1;32m<ipython-input-13-12b6389b5fd8>\u001b[0m in \u001b[0;36m<module>\u001b[1;34m\u001b[0m\n\u001b[0;32m      1\u001b[0m \u001b[0mfh\u001b[0m\u001b[1;33m=\u001b[0m\u001b[0mopen\u001b[0m\u001b[1;33m(\u001b[0m\u001b[1;34m\"book.txt\"\u001b[0m\u001b[1;33m,\u001b[0m\u001b[1;34m'r'\u001b[0m\u001b[1;33m)\u001b[0m      \u001b[1;31m# read not work with write and write not work with read\u001b[0m\u001b[1;33m\u001b[0m\u001b[1;33m\u001b[0m\u001b[0m\n\u001b[1;32m----> 2\u001b[1;33m \u001b[0mfh\u001b[0m\u001b[1;33m.\u001b[0m\u001b[0mwrite\u001b[0m\u001b[1;33m(\u001b[0m\u001b[0mfh\u001b[0m\u001b[1;33m)\u001b[0m\u001b[1;33m\u001b[0m\u001b[1;33m\u001b[0m\u001b[0m\n\u001b[0m\u001b[0;32m      3\u001b[0m \u001b[0mfh\u001b[0m\u001b[1;33m.\u001b[0m\u001b[0mclose\u001b[0m\u001b[1;33m(\u001b[0m\u001b[1;33m)\u001b[0m\u001b[1;33m\u001b[0m\u001b[1;33m\u001b[0m\u001b[0m\n",
      "\u001b[1;31mTypeError\u001b[0m: write() argument must be str, not _io.TextIOWrapper"
     ]
    }
   ],
   "source": [
    "fh=open(\"book.txt\",'r')      # read not work with write and write not work with read\n",
    "fh.write(fh)\n",
    "fh.close()"
   ]
  },
  {
   "cell_type": "code",
   "execution_count": 14,
   "metadata": {},
   "outputs": [],
   "source": [
    "fh=open('mystory.txt','w')\n",
    "content='This is my story'\n",
    "fh.write(content)\n",
    "fh.write('this is second story')    #till we close the file until it will write \n",
    "                                    # only after closing writing again it will overwrite\n",
    "fh.close()"
   ]
  },
  {
   "cell_type": "code",
   "execution_count": null,
   "metadata": {},
   "outputs": [],
   "source": []
  },
  {
   "cell_type": "markdown",
   "metadata": {},
   "source": [
    "## data reading two times will result empty string"
   ]
  },
  {
   "cell_type": "code",
   "execution_count": 15,
   "metadata": {},
   "outputs": [
    {
     "name": "stdout",
     "output_type": "stream",
     "text": [
      "\n"
     ]
    }
   ],
   "source": [
    "fh=open('mystory.txt','r')\n",
    "data=fh.read()\n",
    "data=fh.read()\n",
    "print(data)\n",
    "\n",
    "fh.close()"
   ]
  },
  {
   "cell_type": "markdown",
   "metadata": {},
   "source": [
    "## tell()\n",
    "- to know the position of the cursor"
   ]
  },
  {
   "cell_type": "code",
   "execution_count": 20,
   "metadata": {},
   "outputs": [
    {
     "name": "stdout",
     "output_type": "stream",
     "text": [
      "cursor 0\n",
      "cursor 36\n",
      "cursor 36\n",
      "This is my storythis is second story\n"
     ]
    }
   ],
   "source": [
    "fh=open('mystory.txt')\n",
    "print('cursor',fh.tell())\n",
    "data1= fh.read()\n",
    "print('cursor',fh.tell())\n",
    "data2 =fh.read()\n",
    "print('cursor',fh.tell())\n",
    "print(data1)\n",
    "fh.close()"
   ]
  },
  {
   "cell_type": "markdown",
   "metadata": {},
   "source": [
    "## seek()\n",
    "- to change the position of cursor"
   ]
  },
  {
   "cell_type": "code",
   "execution_count": 22,
   "metadata": {},
   "outputs": [
    {
     "name": "stdout",
     "output_type": "stream",
     "text": [
      "cursor 36\n",
      "cursor 5\n",
      "is my storythis is second story\n"
     ]
    }
   ],
   "source": [
    "fh=open('mystory.txt','r')\n",
    "fh.read()\n",
    "print('cursor',fh.tell())\n",
    "\n",
    "fh.seek(5)\n",
    "print('cursor',fh.tell())\n",
    "data=fh.read()\n",
    "print(data)\n",
    "fh.close()"
   ]
  },
  {
   "cell_type": "markdown",
   "metadata": {},
   "source": [
    "## Append mode\n",
    "- to write the already existing beside"
   ]
  },
  {
   "cell_type": "code",
   "execution_count": 23,
   "metadata": {},
   "outputs": [],
   "source": [
    "fh=open('mystory.txt','a')\n",
    "fh.write('story 3')\n",
    "\n",
    "\n",
    "\n",
    "fh.close()"
   ]
  },
  {
   "cell_type": "code",
   "execution_count": 44,
   "metadata": {},
   "outputs": [],
   "source": [
    "import re\n",
    "fh=open('book.txt','r')\n",
    "fh2=open('mystory.txt','w')\n",
    "data=fh.read()\n",
    "for i in data:\n",
    "    if(re.findall('\\d+',i)):\n",
    "        fh2.write(i+'\\n')\n",
    "fh.close()\n",
    "fh2.close()"
   ]
  },
  {
   "cell_type": "code",
   "execution_count": null,
   "metadata": {},
   "outputs": [],
   "source": [
    "import re\n",
    "fh=open('book.txt','r')\n",
    "fh2=open('mystory.txt','w')\n",
    "for i in data\n",
    "    data=fh.read()\n",
    "print(data)\n",
    "fh.close()\n",
    "fh2.close()\n",
    "        "
   ]
  },
  {
   "cell_type": "markdown",
   "metadata": {},
   "source": [
    "## mode not mention default is read mode"
   ]
  },
  {
   "cell_type": "code",
   "execution_count": 49,
   "metadata": {},
   "outputs": [
    {
     "name": "stdout",
     "output_type": "stream",
     "text": [
      "line 3\n",
      "\n",
      "4\n"
     ]
    }
   ],
   "source": [
    "fh=open('book.txt')\n",
    "c=0\n",
    "for line in fh:\n",
    "    c=c+1\n",
    "    if(c==3):\n",
    "        print(line)\n",
    "        \n",
    "\n",
    "\n",
    "\n",
    "\n",
    "\n",
    "print(c)\n",
    "fh.close()"
   ]
  },
  {
   "cell_type": "markdown",
   "metadata": {},
   "source": [
    "## readline\n",
    "- it reads a line form the place where our cursor present"
   ]
  },
  {
   "cell_type": "code",
   "execution_count": 50,
   "metadata": {},
   "outputs": [
    {
     "name": "stdout",
     "output_type": "stream",
     "text": [
      "line 2\n",
      "\n"
     ]
    }
   ],
   "source": [
    "fh=open('book.txt','r')\n",
    "line1= fh.readline()\n",
    "line2=fh.readline()\n",
    "print(line2)\n",
    "fh.close()"
   ]
  },
  {
   "cell_type": "markdown",
   "metadata": {},
   "source": [
    "## readlines\n",
    "- gives the remaining lines from the cursor position"
   ]
  },
  {
   "cell_type": "code",
   "execution_count": 52,
   "metadata": {},
   "outputs": [
    {
     "name": "stdout",
     "output_type": "stream",
     "text": [
      "['line 2\\n', 'line 3\\n', 'line 4']\n"
     ]
    }
   ],
   "source": [
    "fh=open('book.txt','r')\n",
    "line1=fh.readline()\n",
    "line2=fh.readlines()\n",
    "print(line2)\n",
    "fh.close()"
   ]
  },
  {
   "cell_type": "code",
   "execution_count": null,
   "metadata": {},
   "outputs": [],
   "source": []
  },
  {
   "cell_type": "code",
   "execution_count": 53,
   "metadata": {},
   "outputs": [],
   "source": [
    "fh=open('book.txt','r+')\n",
    "data=fh.read()\n",
    "fh.write('hai')\n",
    "\n",
    "\n",
    "\n",
    "fh.close()"
   ]
  },
  {
   "cell_type": "code",
   "execution_count": 56,
   "metadata": {},
   "outputs": [
    {
     "name": "stdout",
     "output_type": "stream",
     "text": [
      " 1\n",
      "line 2\n",
      "line 3\n",
      "line 4hai\n"
     ]
    }
   ],
   "source": [
    "fh=open('book.txt','r+')\n",
    "fh.write('hiii')\n",
    "data=fh.read()\n",
    "print(data)\n",
    "fh.close()"
   ]
  },
  {
   "cell_type": "markdown",
   "metadata": {},
   "source": [
    "### write mode: remove the original data and returns the empty file "
   ]
  },
  {
   "cell_type": "code",
   "execution_count": 59,
   "metadata": {},
   "outputs": [
    {
     "name": "stdout",
     "output_type": "stream",
     "text": [
      "\n"
     ]
    }
   ],
   "source": [
    "fh=open('book.txt','w+')\n",
    "fh.write('last')\n",
    "print(fh.read())\n",
    "fh.close()"
   ]
  },
  {
   "cell_type": "markdown",
   "metadata": {},
   "source": [
    "###  task"
   ]
  },
  {
   "cell_type": "code",
   "execution_count": 98,
   "metadata": {},
   "outputs": [],
   "source": [
    "import re\n",
    "fh1=open('report.txt','r')\n",
    "fh2=open('sai.txt','w')\n",
    "fh3=open('ok.txt','w')\n",
    "a=fh1.readlines()\n",
    "for i in a:\n",
    "    if(re.findall('[9]\\d{9}$',i)):\n",
    "            fh2.write(i)\n",
    "    else: \n",
    "            fh3.write(i)\n",
    "            \n",
    "fh1.close()\n",
    "fh2.close()\n",
    "fh3.close()\n",
    "    "
   ]
  },
  {
   "cell_type": "code",
   "execution_count": 108,
   "metadata": {},
   "outputs": [
    {
     "name": "stdout",
     "output_type": "stream",
     "text": [
      "<_io.TextIOWrapper name='res.txt' mode='w' encoding='cp1252'>\n"
     ]
    }
   ],
   "source": [
    "import re\n",
    "fh1=open('bot.txt','r')\n",
    "fh2=open('res.txt','w')\n",
    "\n",
    "for i in d:\n",
    "   "
   ]
  },
  {
   "cell_type": "code",
   "execution_count": null,
   "metadata": {},
   "outputs": [],
   "source": []
  }
 ],
 "metadata": {
  "kernelspec": {
   "display_name": "Python 3",
   "language": "python",
   "name": "python3"
  },
  "language_info": {
   "codemirror_mode": {
    "name": "ipython",
    "version": 3
   },
   "file_extension": ".py",
   "mimetype": "text/x-python",
   "name": "python",
   "nbconvert_exporter": "python",
   "pygments_lexer": "ipython3",
   "version": "3.7.3"
  }
 },
 "nbformat": 4,
 "nbformat_minor": 2
}
