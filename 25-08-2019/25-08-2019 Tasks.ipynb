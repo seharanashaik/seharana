{
 "cells": [
  {
   "cell_type": "code",
   "execution_count": 54,
   "metadata": {},
   "outputs": [
    {
     "name": "stdout",
     "output_type": "stream",
     "text": [
      "15\n"
     ]
    }
   ],
   "source": [
    "# additon of elements in list\n",
    "def add(i):\n",
    "    s=0\n",
    "    s=s+i\n",
    "    return s\n",
    "a=[1,2,3,4,5]\n",
    "b=0\n",
    "for i in a:\n",
    "    b=b+add(i)\n",
    "print(b)"
   ]
  },
  {
   "cell_type": "code",
   "execution_count": 55,
   "metadata": {},
   "outputs": [
    {
     "name": "stdout",
     "output_type": "stream",
     "text": [
      "120\n"
     ]
    }
   ],
   "source": [
    "##multiplication of elements in list\n",
    "def mul(i):\n",
    "    a=1\n",
    "    a=a*i\n",
    "    return a\n",
    "b=[1,2,3,5,4]\n",
    "c=1\n",
    "for i in b:\n",
    "    c=c*mul(i)\n",
    "print(c)"
   ]
  },
  {
   "cell_type": "code",
   "execution_count": 56,
   "metadata": {},
   "outputs": [
    {
     "data": {
      "text/plain": [
       "'iah'"
      ]
     },
     "execution_count": 56,
     "metadata": {},
     "output_type": "execute_result"
    }
   ],
   "source": [
    "# to reverse a string\n",
    "def rev(i):\n",
    "    c=i[::-1]\n",
    "    return c\n",
    "a=\"hai\"\n",
    "rev(a)\n"
   ]
  },
  {
   "cell_type": "code",
   "execution_count": 18,
   "metadata": {},
   "outputs": [
    {
     "name": "stdout",
     "output_type": "stream",
     "text": [
      "1\n",
      "90\n"
     ]
    },
    {
     "data": {
      "text/plain": [
       "'yes'"
      ]
     },
     "execution_count": 18,
     "metadata": {},
     "output_type": "execute_result"
    }
   ],
   "source": [
    "def check(i):\n",
    "    p=int(input())\n",
    "    q=int(input())    \n",
    "    for i in range(p,q):\n",
    "        return \"yes\"\n",
    "check(12)\n",
    "    \n",
    "    \n",
    "    "
   ]
  },
  {
   "cell_type": "code",
   "execution_count": 1,
   "metadata": {},
   "outputs": [
    {
     "name": "stdout",
     "output_type": "stream",
     "text": [
      "10\n",
      "2\n",
      "4\n"
     ]
    }
   ],
   "source": [
    "def even(b):\n",
    "    if(b%2==0):        # to print even elements in a list\n",
    "        return 1\n",
    "    else:\n",
    "        return 0\n",
    "a=[1,10,2,4,5]\n",
    "for i in a:\n",
    "    if(even(i)==1):\n",
    "        print(i)\n",
    "    \n",
    "        "
   ]
  },
  {
   "cell_type": "code",
   "execution_count": 15,
   "metadata": {},
   "outputs": [
    {
     "name": "stdout",
     "output_type": "stream",
     "text": [
      "hEllO\n",
      "lower: 3\n",
      "upper: 2\n"
     ]
    }
   ],
   "source": [
    "def lw(p):\n",
    "    if p.islower():\n",
    "        return 1\n",
    "    else:\n",
    "        return 0\n",
    "a=input()                      #take a string and print upper and lower elements\n",
    "c=0\n",
    "d=0\n",
    "for i in range(len(a)):\n",
    "    if (lw(a[i])==1):\n",
    "        c=c+1\n",
    "    else:\n",
    "        d=d+1\n",
    "print(\"lower:\",c)\n",
    "print(\"upper:\",d)\n",
    "    \n",
    "    "
   ]
  },
  {
   "cell_type": "code",
   "execution_count": 16,
   "metadata": {},
   "outputs": [
    {
     "data": {
      "text/plain": [
       "[1, 2, 3, 4]"
      ]
     },
     "execution_count": 16,
     "metadata": {},
     "output_type": "execute_result"
    }
   ],
   "source": [
    "#take a list and print unique numbers\n",
    "def uni(n):\n",
    "    k=[]\n",
    "    for i in n:\n",
    "        flag=0\n",
    "        for j in k:\n",
    "            if(i==j):\n",
    "                flag=1\n",
    "        if(flag==0):\n",
    "            k.append(i)\n",
    "    return k\n",
    "uni([1,2,3,2,1,4,3,2])    "
   ]
  },
  {
   "cell_type": "code",
   "execution_count": 30,
   "metadata": {},
   "outputs": [
    {
     "name": "stdout",
     "output_type": "stream",
     "text": [
      "121\n",
      "yes\n"
     ]
    }
   ],
   "source": [
    "#palindrome\n",
    "def palindrome(n):\n",
    "    c=0\n",
    "    b=0\n",
    "    p=n\n",
    "    while (n!=0):\n",
    "        c=n%10\n",
    "        b=b*10+c\n",
    "        n=n//10\n",
    "    if(p==b):\n",
    "        return 1\n",
    "    else:\n",
    "        return 0\n",
    "a=int(input())\n",
    "if(palindrome(a)==1):\n",
    "    print(\"yes\")\n",
    "else:\n",
    "    print(\"no\")\n",
    "    \n",
    "    "
   ]
  },
  {
   "cell_type": "code",
   "execution_count": 31,
   "metadata": {},
   "outputs": [
    {
     "name": "stdout",
     "output_type": "stream",
     "text": [
      "2012\n",
      "leap\n"
     ]
    }
   ],
   "source": [
    "#leap year\n",
    "def leap(n):\n",
    "    if(n%400==0)or ((n%100!=0)and (n%4==0)):\n",
    "        return 1\n",
    "    else:\n",
    "        return 0\n",
    "a=int(input())\n",
    "if(leap(a)==1):\n",
    "    print(\"leap\")\n",
    "else:\n",
    "    print(\"not leap\")"
   ]
  },
  {
   "cell_type": "code",
   "execution_count": 39,
   "metadata": {},
   "outputs": [
    {
     "name": "stdout",
     "output_type": "stream",
     "text": [
      "123\n"
     ]
    },
    {
     "data": {
      "text/plain": [
       "3"
      ]
     },
     "execution_count": 39,
     "metadata": {},
     "output_type": "execute_result"
    }
   ],
   "source": [
    "#to count no.of digits in given no\n",
    "def count(n):\n",
    "     b=len(n)\n",
    "     return b\n",
    "a=(input())\n",
    "count(a)\n",
    "        \n",
    "        "
   ]
  },
  {
   "cell_type": "code",
   "execution_count": 40,
   "metadata": {},
   "outputs": [
    {
     "name": "stdout",
     "output_type": "stream",
     "text": [
      "10\n",
      "11\n",
      "2\n"
     ]
    },
    {
     "data": {
      "text/plain": [
       "11"
      ]
     },
     "execution_count": 40,
     "metadata": {},
     "output_type": "execute_result"
    }
   ],
   "source": [
    "#greatest of three numbers\n",
    "def greatest(a,b,c):\n",
    "    if(a>b and a>c):\n",
    "        return a\n",
    "    elif(b>a and b>c):\n",
    "        return b\n",
    "    else:\n",
    "        return c\n",
    "p=int(input())\n",
    "q=int(input())\n",
    "r=int(input())\n",
    "greatest(p,q,r)\n",
    "        \n"
   ]
  },
  {
   "cell_type": "code",
   "execution_count": 44,
   "metadata": {},
   "outputs": [
    {
     "name": "stdout",
     "output_type": "stream",
     "text": [
      "6\n",
      "1\n",
      "2\n",
      "3\n"
     ]
    }
   ],
   "source": [
    "#factors of given number\n",
    "def factor(a):\n",
    "    i=1\n",
    "    for i in range(i,a):\n",
    "        if(a%i==0):\n",
    "            print(i) \n",
    "            i=i+1\n",
    "p=int(input())\n",
    "factor(p)"
   ]
  },
  {
   "cell_type": "code",
   "execution_count": 3,
   "metadata": {},
   "outputs": [
    {
     "name": "stdout",
     "output_type": "stream",
     "text": [
      "5\n"
     ]
    },
    {
     "data": {
      "text/plain": [
       "120"
      ]
     },
     "execution_count": 3,
     "metadata": {},
     "output_type": "execute_result"
    }
   ],
   "source": [
    "#factorial of given number\n",
    "def factorial(a):\n",
    "    fact=1\n",
    "    while (a!=0):\n",
    "        fact=fact*a\n",
    "        a=a-1\n",
    "    return fact\n",
    "b=int(input())\n",
    "factorial(b)"
   ]
  },
  {
   "cell_type": "code",
   "execution_count": 6,
   "metadata": {},
   "outputs": [
    {
     "name": "stdout",
     "output_type": "stream",
     "text": [
      "6\n",
      "not prime\n"
     ]
    }
   ],
   "source": [
    "#prime\n",
    "def prime(a):\n",
    "    i=1\n",
    "    c=0\n",
    "    for i in range(2,a//2):\n",
    "        if(a%i==0):\n",
    "            c+=1\n",
    "    if(c==0):\n",
    "        return 1\n",
    "    else:\n",
    "        return 0\n",
    "p=int(input())\n",
    "if(prime(p)==1):\n",
    "    print(\"prime\")\n",
    "else:\n",
    "    print(\"not prime\")\n",
    "            \n",
    "        "
   ]
  },
  {
   "cell_type": "code",
   "execution_count": 8,
   "metadata": {},
   "outputs": [
    {
     "name": "stdout",
     "output_type": "stream",
     "text": [
      "1\n",
      "10\n",
      "6\n"
     ]
    }
   ],
   "source": [
    "# to print perfect numbers in given range\n",
    "def perfect(a):\n",
    "    p=a\n",
    "    i=1\n",
    "    s=0\n",
    "    for i in range(i,a):\n",
    "        if(a%i==0):\n",
    "            s=s+i\n",
    "    if(s==p):\n",
    "        return 1\n",
    "    else:\n",
    "        return 0\n",
    "q=int(input())\n",
    "r=int(input())\n",
    "for u in range(q,r):\n",
    "    if(perfect(u)==1):\n",
    "        print(u)\n",
    "    \n",
    "            \n",
    "            \n",
    "    "
   ]
  }
 ],
 "metadata": {
  "kernelspec": {
   "display_name": "Python 3",
   "language": "python",
   "name": "python3"
  }
 },
 "nbformat": 4,
 "nbformat_minor": 2
}
