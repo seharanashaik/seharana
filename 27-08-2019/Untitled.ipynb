{
 "cells": [
  {
   "cell_type": "markdown",
   "metadata": {},
   "source": [
    "## Task:\n",
    "- first name and second name\n",
    "- **Sumathi Gonugunata**\n",
    "- o/p: **G. Sumathi**"
   ]
  },
  {
   "cell_type": "code",
   "execution_count": 5,
   "metadata": {},
   "outputs": [
    {
     "name": "stdout",
     "output_type": "stream",
     "text": [
      "G.  Sumathi\n"
     ]
    }
   ],
   "source": [
    "name=\"Sumathi Gonugunata\"\n",
    "f=' '\n",
    "for i in range(len(name)):\n",
    "    if (name[i]==' '):\n",
    "        l=name[i+1]\n",
    "        break\n",
    "    else:\n",
    "        f+=name[i]\n",
    "out=l+'. '+f\n",
    "print(out)"
   ]
  },
  {
   "cell_type": "markdown",
   "metadata": {},
   "source": [
    "### **2.URL PROBLEM**"
   ]
  },
  {
   "cell_type": "code",
   "execution_count": null,
   "metadata": {},
   "outputs": [],
   "source": []
  }
 ],
 "metadata": {
  "kernelspec": {
   "display_name": "Python 3",
   "language": "python",
   "name": "python3"
  },
  "language_info": {
   "codemirror_mode": {
    "name": "ipython",
    "version": 3
   },
   "file_extension": ".py",
   "mimetype": "text/x-python",
   "name": "python",
   "nbconvert_exporter": "python",
   "pygments_lexer": "ipython3",
   "version": "3.7.3"
  }
 },
 "nbformat": 4,
 "nbformat_minor": 2
}
