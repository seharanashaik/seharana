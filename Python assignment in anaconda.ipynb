{
 "cells": [
  {
   "cell_type": "code",
   "execution_count": 1,
   "metadata": {},
   "outputs": [
    {
     "name": "stdout",
     "output_type": "stream",
     "text": [
      "enter ur number3\n",
      "6\n"
     ]
    }
   ],
   "source": [
    "#sum of n natural numbers\n",
    "a=int(input(\"enter ur number\"))\n",
    "i=1\n",
    "sum=0\n",
    "while (i<=a):\n",
    "    sum=sum+i\n",
    "    i=i+1\n",
    "print(sum)"
   ]
  },
  {
   "cell_type": "code",
   "execution_count": 4,
   "metadata": {},
   "outputs": [
    {
     "name": "stdout",
     "output_type": "stream",
     "text": [
      "enter ur umber5\n",
      "120\n"
     ]
    }
   ],
   "source": [
    "#factorial of a number\n",
    "a=int(input(\"enter ur umber\"))\n",
    "fact=1\n",
    "while (a>0):\n",
    "    fact=fact*a\n",
    "    a=a-1\n",
    "print(fact)\n"
   ]
  },
  {
   "cell_type": "code",
   "execution_count": 7,
   "metadata": {},
   "outputs": [
    {
     "name": "stdout",
     "output_type": "stream",
     "text": [
      "enter ur year2012\n",
      " leapyear\n"
     ]
    }
   ],
   "source": [
    "#to check a year is leapyear or not\n",
    "a=int(input('enter ur year'))\n",
    "if (a%400==0):\n",
    "    print(\"leap year\")\n",
    "elif ((a%4==0) and (a%100!=0)):\n",
    "    print(\" leapyear\")\n",
    "else:\n",
    "    print(\"it is not a lepa year\")"
   ]
  },
  {
   "cell_type": "code",
   "execution_count": 20,
   "metadata": {},
   "outputs": [
    {
     "name": "stdout",
     "output_type": "stream",
     "text": [
      "enter a number153\n",
      "armstrong number\n"
     ]
    }
   ],
   "source": [
    "# to check the given number armstrong or not\n",
    "a=int(input(\"enter a number\"))\n",
    "s=a\n",
    "c=0\n",
    "sum=0\n",
    "while (a>0):\n",
    "    c=(a%10)\n",
    "    sum=sum+c**3\n",
    "    a=(a//10)\n",
    "if(sum==s):\n",
    "    print(\"armstrong number\")\n",
    "else:\n",
    "    print(\"not armstrong number\")\n",
    "    "
   ]
  },
  {
   "cell_type": "code",
   "execution_count": 24,
   "metadata": {},
   "outputs": [
    {
     "name": "stdout",
     "output_type": "stream",
     "text": [
      "enter ur number6\n",
      "perfect no\n"
     ]
    }
   ],
   "source": [
    "#To check the given number perfect or not\n",
    "a=int(input(\"enter ur number\"))\n",
    "i=1\n",
    "sum=0\n",
    "while (i<a):\n",
    "    if(a%i==0):\n",
    "        sum=sum+i\n",
    "    i=i+1\n",
    "if(sum==a):\n",
    "    print(\"perfect no\")\n",
    "else:\n",
    "    print(\"not perfect no\")\n",
    "    "
   ]
  },
  {
   "cell_type": "code",
   "execution_count": 27,
   "metadata": {},
   "outputs": [
    {
     "name": "stdout",
     "output_type": "stream",
     "text": [
      "enter ur number9\n",
      "not prime\n"
     ]
    }
   ],
   "source": [
    "#To check the given number prime or not\n",
    "a=int(input(\"enter ur number\"))\n",
    "i=1\n",
    "count=0\n",
    "while(i<a):\n",
    "    if(a%i==0):\n",
    "        count=count+1\n",
    "    i=i+1\n",
    "if(count==1):\n",
    "    print(\"prime\")\n",
    "else:\n",
    "    print(\"not prime\")"
   ]
  },
  {
   "cell_type": "code",
   "execution_count": 35,
   "metadata": {},
   "outputs": [
    {
     "name": "stdout",
     "output_type": "stream",
     "text": [
      "enter ur number567.90\n",
      "567\n"
     ]
    }
   ],
   "source": [
    "# To print the absolute value of a number\n",
    "a=float(input(\"enter ur number\"))\n",
    "b=int(a*10//10)\n",
    "print(b)"
   ]
  },
  {
   "cell_type": "code",
   "execution_count": null,
   "metadata": {},
   "outputs": [],
   "source": [
    "#Swaping of two numbers without using third variable\n",
    "a=int(input(\"enter ur number a: \"))\n",
    "b=int(intput(\"enter ur number b: \"))\n",
    "a=a+b\n",
    "b=a-b\n",
    "a=a-b\n",
    "print(a)\n",
    "print(b)"
   ]
  },
  {
   "cell_type": "code",
   "execution_count": null,
   "metadata": {},
   "outputs": [],
   "source": [
    "a=10\n"
   ]
  }
 ],
 "metadata": {
  "kernelspec": {
   "display_name": "Python 3",
   "language": "python",
   "name": "python3"
  },
  "language_info": {
   "codemirror_mode": {
    "name": "ipython",
    "version": 3
   },
   "file_extension": ".py",
   "mimetype": "text/x-python",
   "name": "python",
   "nbconvert_exporter": "python",
   "pygments_lexer": "ipython3",
   "version": "3.7.3"
  }
 },
 "nbformat": 4,
 "nbformat_minor": 2
}
