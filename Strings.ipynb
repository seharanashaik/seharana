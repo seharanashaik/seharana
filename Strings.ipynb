{
 "cells": [
  {
   "cell_type": "code",
   "execution_count": 1,
   "metadata": {},
   "outputs": [
    {
     "name": "stdout",
     "output_type": "stream",
     "text": [
      "hi\n",
      "\"hi\"\n"
     ]
    }
   ],
   "source": [
    "a=\"hi\"\n",
    "b='\"hi\"'\n",
    "print(a)\n",
    "print(b)"
   ]
  },
  {
   "cell_type": "code",
   "execution_count": 12,
   "metadata": {},
   "outputs": [
    {
     "data": {
      "text/plain": [
       "'hello\\nhi'"
      ]
     },
     "execution_count": 12,
     "metadata": {},
     "output_type": "execute_result"
    }
   ],
   "source": [
    "a='''hello\n",
    "hi'''\n",
    "(a)"
   ]
  },
  {
   "cell_type": "code",
   "execution_count": 13,
   "metadata": {},
   "outputs": [
    {
     "data": {
      "text/plain": [
       "'hi'"
      ]
     },
     "execution_count": 13,
     "metadata": {},
     "output_type": "execute_result"
    }
   ],
   "source": [
    "a='''hi'''\n",
    "(a)"
   ]
  },
  {
   "cell_type": "code",
   "execution_count": 14,
   "metadata": {},
   "outputs": [
    {
     "data": {
      "text/plain": [
       "'hi'"
      ]
     },
     "execution_count": 14,
     "metadata": {},
     "output_type": "execute_result"
    }
   ],
   "source": [
    "a=\"hi\"\n",
    "(a)"
   ]
  },
  {
   "cell_type": "code",
   "execution_count": 15,
   "metadata": {},
   "outputs": [
    {
     "data": {
      "text/plain": [
       "'hi'"
      ]
     },
     "execution_count": 15,
     "metadata": {},
     "output_type": "execute_result"
    }
   ],
   "source": [
    "a='hi'\n",
    "(a)"
   ]
  },
  {
   "cell_type": "code",
   "execution_count": 19,
   "metadata": {},
   "outputs": [
    {
     "data": {
      "text/plain": [
       "('h', 'i')"
      ]
     },
     "execution_count": 19,
     "metadata": {},
     "output_type": "execute_result"
    }
   ],
   "source": [
    "#string slicing programs\n",
    "a[0],a[1]"
   ]
  },
  {
   "cell_type": "code",
   "execution_count": 20,
   "metadata": {},
   "outputs": [
    {
     "data": {
      "text/plain": [
       "'hi'"
      ]
     },
     "execution_count": 20,
     "metadata": {},
     "output_type": "execute_result"
    }
   ],
   "source": [
    "a[0:]#print total string"
   ]
  },
  {
   "cell_type": "code",
   "execution_count": 23,
   "metadata": {},
   "outputs": [
    {
     "data": {
      "text/plain": [
       "'hi'"
      ]
     },
     "execution_count": 23,
     "metadata": {},
     "output_type": "execute_result"
    }
   ],
   "source": [
    "a[0:2]#anotehr way to print string"
   ]
  },
  {
   "cell_type": "code",
   "execution_count": 25,
   "metadata": {},
   "outputs": [
    {
     "data": {
      "text/plain": [
       "'hi'"
      ]
     },
     "execution_count": 25,
     "metadata": {},
     "output_type": "execute_result"
    }
   ],
   "source": [
    "a[0:4:1]#index not in range but upto string values will print"
   ]
  },
  {
   "cell_type": "code",
   "execution_count": 26,
   "metadata": {},
   "outputs": [
    {
     "name": "stdout",
     "output_type": "stream",
     "text": [
      "hi\n"
     ]
    }
   ],
   "source": [
    "print(a[::1])#to print given string"
   ]
  },
  {
   "cell_type": "code",
   "execution_count": 29,
   "metadata": {},
   "outputs": [
    {
     "name": "stdout",
     "output_type": "stream",
     "text": [
      "h\n",
      "h\n",
      "i\n",
      "h\n"
     ]
    }
   ],
   "source": [
    "print(a[::2])#step is 2\n",
    "print(a[::3])# step is 3\n",
    "print(a[1:6:4])#a[1]\n",
    "print(a[:6:4])#a[0]"
   ]
  },
  {
   "cell_type": "code",
   "execution_count": 32,
   "metadata": {},
   "outputs": [
    {
     "data": {
      "text/plain": [
       "'ih'"
      ]
     },
     "execution_count": 32,
     "metadata": {},
     "output_type": "execute_result"
    }
   ],
   "source": [
    "a[-1]#to print in reverse\n",
    "a[::-1]#to print in reverse"
   ]
  },
  {
   "cell_type": "code",
   "execution_count": 37,
   "metadata": {},
   "outputs": [
    {
     "name": "stdout",
     "output_type": "stream",
     "text": [
      "ih\n",
      "ih\n"
     ]
    }
   ],
   "source": [
    "print(a[-1::-1])\n",
    "print(a[::-1])"
   ]
  },
  {
   "cell_type": "code",
   "execution_count": 35,
   "metadata": {},
   "outputs": [
    {
     "data": {
      "text/plain": [
       "''"
      ]
     },
     "execution_count": 35,
     "metadata": {},
     "output_type": "execute_result"
    }
   ],
   "source": [
    "a[-1:-1]"
   ]
  },
  {
   "cell_type": "code",
   "execution_count": 38,
   "metadata": {},
   "outputs": [
    {
     "name": "stdout",
     "output_type": "stream",
     "text": [
      "hello world\n"
     ]
    }
   ],
   "source": [
    "a=\"hello world\"\n",
    "print (a)"
   ]
  },
  {
   "cell_type": "code",
   "execution_count": 42,
   "metadata": {},
   "outputs": [
    {
     "name": "stdout",
     "output_type": "stream",
     "text": [
      "hlowrd\n",
      "hlowrd\n"
     ]
    }
   ],
   "source": [
    "print(a[0: :2])  #positive index alternative\n",
    "print(a[0:len(a):2])"
   ]
  },
  {
   "cell_type": "code",
   "execution_count": 47,
   "metadata": {},
   "outputs": [
    {
     "name": "stdout",
     "output_type": "stream",
     "text": [
      "drwolh\n",
      "drwolh\n"
     ]
    }
   ],
   "source": [
    "print(a[-1: :-2])#negative indexing alternative\n",
    "print(a[-1:(-len(a))-1:-2])"
   ]
  },
  {
   "cell_type": "code",
   "execution_count": 41,
   "metadata": {},
   "outputs": [
    {
     "name": "stdout",
     "output_type": "stream",
     "text": [
      "11\n"
     ]
    }
   ],
   "source": [
    "l=len(a)\n",
    "print(l)"
   ]
  },
  {
   "cell_type": "code",
   "execution_count": 50,
   "metadata": {},
   "outputs": [
    {
     "name": "stdout",
     "output_type": "stream",
     "text": [
      "aello world\n",
      "hello world\n",
      "77\n"
     ]
    }
   ],
   "source": [
    "#try to wite value 77  in a\n",
    "#try to change the second characte of a\n",
    "#string item assignment not possible strings are immutable\n",
    "print(a.replace('h','a'))\n",
    "print(a)\n",
    "a=77\n",
    "print(a)"
   ]
  },
  {
   "cell_type": "code",
   "execution_count": 51,
   "metadata": {},
   "outputs": [
    {
     "name": "stdout",
     "output_type": "stream",
     "text": [
      "2==3 False\n",
      "2!=3 True\n",
      "5>6 False\n",
      "9>56 False\n",
      "-5>-9 True\n",
      "-5<-9 False\n"
     ]
    }
   ],
   "source": [
    "print(\"2==3\",2==3)\n",
    "print(\"2!=3\",2!=3)\n",
    "print(\"5>6\",5>6)\n",
    "print(\"9>56\",9>56)\n",
    "print(\"-5>-9\",-5>-9)\n",
    "print(\"-5<-9\",-5<-9)"
   ]
  },
  {
   "cell_type": "code",
   "execution_count": 52,
   "metadata": {},
   "outputs": [
    {
     "name": "stdout",
     "output_type": "stream",
     "text": [
      "True\n",
      "False\n",
      "False\n",
      "False\n",
      "False\n",
      "True\n",
      "True\n"
     ]
    }
   ],
   "source": [
    "#check the following\n",
    "print(0==0.0)\n",
    "print(5==True)\n",
    "print(-10==True)\n",
    "print(0==True)\n",
    "print(\"49\"==49)\n",
    "print(7>True)\n",
    "print(7>False)"
   ]
  },
  {
   "cell_type": "code",
   "execution_count": 53,
   "metadata": {},
   "outputs": [
    {
     "name": "stdout",
     "output_type": "stream",
     "text": [
      "enter ur nameseharana\n",
      "seharana\n"
     ]
    }
   ],
   "source": [
    "#how to read input from keyboard\n",
    "name=input(\"enter ur name\")\n",
    "print(name)"
   ]
  },
  {
   "cell_type": "code",
   "execution_count": 54,
   "metadata": {},
   "outputs": [
    {
     "name": "stdout",
     "output_type": "stream",
     "text": [
      "enter ur first nameshaik\n",
      "enter ur last nameseharana\n",
      "shaik seharana\n",
      "seharana shaik\n"
     ]
    }
   ],
   "source": [
    "#Read both firstname and last name from keyboard.print output\n",
    "#1.FIRST name Last name\n",
    "#2.last name Firstname\n",
    "a=input(\"enter ur first name\")\n",
    "b=input(\"enter ur last name\")\n",
    "print(a,b)\n",
    "print(b,a)"
   ]
  },
  {
   "cell_type": "code",
   "execution_count": 62,
   "metadata": {},
   "outputs": [
    {
     "name": "stdout",
     "output_type": "stream",
     "text": [
      "enter ur n0 3\n",
      "enter ur no 2\n",
      "5\n"
     ]
    }
   ],
   "source": [
    "#print two numbers sum and read from keyboard\n",
    "a=int(input(\"enter ur n0 \"))\n",
    "b=int(input(\"enter ur no \"))\n",
    "s=a+b\n",
    "print(s)"
   ]
  },
  {
   "cell_type": "code",
   "execution_count": 64,
   "metadata": {},
   "outputs": [
    {
     "name": "stdout",
     "output_type": "stream",
     "text": [
      "enter ur string: hai\n",
      "haihaihai\n"
     ]
    }
   ],
   "source": [
    "#\"reapeat string 3 times \"\n",
    "a=input(\"enter ur string: \")\n",
    "r=a*3\n",
    "print(r)"
   ]
  },
  {
   "cell_type": "code",
   "execution_count": 69,
   "metadata": {},
   "outputs": [
    {
     "name": "stdout",
     "output_type": "stream",
     "text": [
      "False\n",
      "True\n"
     ]
    }
   ],
   "source": [
    "a='a' not in 'hai'\n",
    "b='a' in 'hai'\n",
    "print(a);print(b)"
   ]
  },
  {
   "cell_type": "code",
   "execution_count": 80,
   "metadata": {},
   "outputs": [
    {
     "name": "stdout",
     "output_type": "stream",
     "text": [
      "0\n",
      "1\n",
      "2\n",
      "hai\n"
     ]
    }
   ],
   "source": [
    "for i in range(i): # print upto given range\n",
    "    print(i)\n",
    "print('hai')"
   ]
  },
  {
   "cell_type": "code",
   "execution_count": 81,
   "metadata": {},
   "outputs": [
    {
     "name": "stdout",
     "output_type": "stream",
     "text": [
      "0\n",
      "1\n",
      "2\n",
      "3\n",
      "4\n",
      "hai\n"
     ]
    }
   ],
   "source": [
    "for i in range(5):#to print numbers  upto given range giving number\n",
    "    print(i)\n",
    "print('hai')"
   ]
  },
  {
   "cell_type": "code",
   "execution_count": 84,
   "metadata": {},
   "outputs": [
    {
     "name": "stdout",
     "output_type": "stream",
     "text": [
      "h,e,l,o,o,"
     ]
    }
   ],
   "source": [
    "for i in a:              #to separate with commas end we will use default space is available\n",
    "    print(i,end=',')"
   ]
  },
  {
   "cell_type": "code",
   "execution_count": 90,
   "metadata": {},
   "outputs": [
    {
     "name": "stdout",
     "output_type": "stream",
     "text": [
      "hai hello\n"
     ]
    }
   ],
   "source": [
    "a='hai';b='hello'\n",
    "print(a,b,sep=' ')         #using sep and end we do inbetween strings what we want"
   ]
  },
  {
   "cell_type": "code",
   "execution_count": 93,
   "metadata": {},
   "outputs": [
    {
     "name": "stdout",
     "output_type": "stream",
     "text": [
      "enter ur number25\n",
      "odd number\n"
     ]
    }
   ],
   "source": [
    "#conditional\n",
    "#even or odd\n",
    "n=int(input(\"enter ur number\"))\n",
    "if (n%2==0):\n",
    "    print(\"even number\")\n",
    "else:\n",
    "    print(\"odd number\")"
   ]
  },
  {
   "cell_type": "code",
   "execution_count": 96,
   "metadata": {},
   "outputs": [
    {
     "name": "stdout",
     "output_type": "stream",
     "text": [
      "enter ur number0\n",
      "0\n"
     ]
    }
   ],
   "source": [
    "# number positive or negative or zero\n",
    "a=int(input(\"enter ur number\"))\n",
    "if (a>0):\n",
    "    print(\"positive\")\n",
    "elif (a<0):\n",
    "    print(\"negative\")\n",
    "else:\n",
    "    print(\"0\")"
   ]
  },
  {
   "cell_type": "code",
   "execution_count": 98,
   "metadata": {},
   "outputs": [
    {
     "name": "stdout",
     "output_type": "stream",
     "text": [
      "enter ur number14\n",
      "not divisible by above numbers\n"
     ]
    }
   ],
   "source": [
    "#no even, multiple of 8 or not\n",
    "#no odd, multiple of 7 or not  #using and operator\n",
    "b=int(input(\"enter ur number\"))\n",
    "if (b%2==0 and b%8==0):\n",
    "        print(\"multiple of 8\")\n",
    "elif (b%2!=0 and b%7==0):\n",
    "        print(\"multiple of 7\")\n",
    "else:\n",
    "        print(\"not divisible by above numbers\")\n",
    "        "
   ]
  },
  {
   "cell_type": "code",
   "execution_count": 102,
   "metadata": {},
   "outputs": [
    {
     "name": "stdout",
     "output_type": "stream",
     "text": [
      "2 is even\n",
      "4 is even\n",
      "6 is even\n",
      "8 is even\n",
      "10 is even\n"
     ]
    }
   ],
   "source": [
    "for i in range(1,11):  #\n",
    "    if(i%2==0):\n",
    "        print(i,\"is even\")\n"
   ]
  },
  {
   "cell_type": "code",
   "execution_count": 106,
   "metadata": {},
   "outputs": [
    {
     "name": "stdout",
     "output_type": "stream",
     "text": [
      "7 14 21 28 35 42 49 56 63 70 77 84 91 98 105 112 119 126 133 140 147 154 161 168 175 182 189 196 203 210 217 224 231 238 245 252 259 266 273 280 287 294 301 308 315 322 329 336 343 350 357 364 371 378 385 392 399 406 413 420 427 434 441 448 455 462 469 476 483 490 497 504 511 518 525 532 539 546 553 560 567 574 581 588 595 602 609 616 623 630 637 644 651 658 665 672 679 686 693 700 707 714 721 728 735 742 749 756 763 770 777 784 791 798 805 812 819 826 833 840 847 854 861 868 875 882 889 896 903 910 917 924 931 938 945 952 959 966 973 980 987 994 "
     ]
    }
   ],
   "source": [
    "for i in range(7,1001,7):#in the given range multipes of 7\n",
    "        print(i,end=' ')"
   ]
  },
  {
   "cell_type": "code",
   "execution_count": 107,
   "metadata": {},
   "outputs": [
    {
     "name": "stdout",
     "output_type": "stream",
     "text": [
      "14 28 42 56 70 84 98 112 126 140 154 168 182 196 210 224 238 252 266 280 294 308 322 336 350 364 378 392 406 420 434 448 462 476 490 504 518 532 546 560 574 588 602 616 630 644 658 672 686 700 714 728 742 756 770 784 798 812 826 840 854 868 882 896 910 924 938 952 966 980 994 "
     ]
    }
   ],
   "source": [
    "for i in range(14,1001,14): # 7 even multiples\n",
    "    print(i,end=' ')"
   ]
  },
  {
   "cell_type": "code",
   "execution_count": 110,
   "metadata": {},
   "outputs": [
    {
     "name": "stdout",
     "output_type": "stream",
     "text": [
      "994 987 980 973 966 959 952 945 938 931 924 917 910 903 896 889 882 875 868 861 854 847 840 833 826 819 812 805 798 791 784 777 770 763 756 749 742 735 728 721 714 707 700 693 686 679 672 665 658 651 644 637 630 623 616 609 602 595 588 581 574 567 560 553 546 539 532 525 518 511 504 497 490 483 476 469 462 455 448 441 434 427 420 413 406 399 392 385 378 371 364 357 350 343 336 329 322 315 308 301 294 287 280 273 266 259 252 245 238 231 224 217 210 203 196 189 182 175 168 161 154 147 140 133 126 119 112 105 98 91 84 77 70 63 56 49 42 35 28 21 14 7 "
     ]
    }
   ],
   "source": [
    "for i in range(994,0,-7):  #reverse of multiples of 7\n",
    "    print(i,end=' ')"
   ]
  },
  {
   "cell_type": "code",
   "execution_count": 113,
   "metadata": {},
   "outputs": [
    {
     "name": "stdout",
     "output_type": "stream",
     "text": [
      "99 97 95 93 91 89 87 85 83 81 79 77 75 73 71 69 67 65 63 61 59 57 55 53 51 "
     ]
    }
   ],
   "source": [
    "for i in range(99,50,-2):    #reverse order 100 to 50 odd numbers\n",
    "    print(i,end=' ')"
   ]
  },
  {
   "cell_type": "code",
   "execution_count": 114,
   "metadata": {},
   "outputs": [
    {
     "name": "stdout",
     "output_type": "stream",
     "text": [
      "1 2 3 4 5 6 7 8 9 10 "
     ]
    }
   ],
   "source": [
    "i=1\n",
    "while i<=10:\n",
    "    print(i,end=' ')    #1 to 10 number print using while loop\n",
    "    i=i+1"
   ]
  },
  {
   "cell_type": "code",
   "execution_count": 119,
   "metadata": {},
   "outputs": [
    {
     "name": "stdout",
     "output_type": "stream",
     "text": [
      "3 6 9 12 15 18 21 24 27 30 33 36 39 42 45 48 51 54 57 60 63 66 69 72 75 78 81 84 87 90 93 96 99 "
     ]
    }
   ],
   "source": [
    "i=3\n",
    "while i<=100:\n",
    "        print(i,end=' ')  # multiple of 3 \n",
    "        i=i+3   "
   ]
  },
  {
   "cell_type": "code",
   "execution_count": 120,
   "metadata": {},
   "outputs": [
    {
     "name": "stdout",
     "output_type": "stream",
     "text": [
      "99 96 93 90 87 84 81 78 75 72 69 66 63 60 57 54 51 48 45 42 39 36 33 30 27 24 21 18 15 12 9 6 3 "
     ]
    }
   ],
   "source": [
    "i=99\n",
    "while i>=3:\n",
    "        print(i,end=' ')  #multiple of 3 in reverse order\n",
    "        i=i-3"
   ]
  },
  {
   "cell_type": "code",
   "execution_count": null,
   "metadata": {},
   "outputs": [],
   "source": []
  }
 ],
 "metadata": {
  "kernelspec": {
   "display_name": "Python 3",
   "language": "python",
   "name": "python3"
  },
  "language_info": {
   "codemirror_mode": {
    "name": "ipython",
    "version": 3
   },
   "file_extension": ".py",
   "mimetype": "text/x-python",
   "name": "python",
   "nbconvert_exporter": "python",
   "pygments_lexer": "ipython3",
   "version": "3.7.3"
  }
 },
 "nbformat": 4,
 "nbformat_minor": 2
}
